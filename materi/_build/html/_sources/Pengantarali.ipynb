{
 "cells": [
  {
   "cell_type": "markdown",
   "metadata": {
    "id": "HsKoh2gHhug1"
   },
   "source": [
    "## Pengantar Aljabar Linier"
   ]
  },
  {
   "cell_type": "markdown",
   "metadata": {
    "id": "fLAPN1xIhug-"
   },
   "source": [
    "Materi Kuliah ini membahas tentang teori matriks dan aljabar linier, dan mengkaji beberapa implementasi  dalam disiplin ilmu lain terutama untuk sain data. Aljabar linier adalah salah satu cabang matematika yang mempelajari sistem persamaan linier dan sifat-sifat matriks. Konsep aljabar linier sangat berguna dalam fisika, ilmu ekonomi dan sosial, ilmu alam, dan teknik. Karena penerapannya yang luas, maka aljabar linier adalah salah satu mata pelajaran yang sangat perlu untuk dipelajari lebih mendalam\n",
    "\n",
    "Prasyarat\n",
    "Kalkulus Multivariabel, Matematika  Dasar"
   ]
  },
  {
   "cell_type": "markdown",
   "metadata": {
    "id": "Lw8cojIslURn"
   },
   "source": [
    "Untuk berhasil dalam kursus ini Anda harus menguasai vektor, matriks, dan sistem koordinat tiga dimensi.\n",
    "\n",
    "Operasi dasar aljabar linier adalah  penjumlahan dan perkalian untuk menghasilkan “kombinasi linier”. Namun dengan vektor, kita berpindah ke ruang empat dimensi dan ruang n dimensi!\n",
    "\n",
    "### Tujuan Kursus\n",
    "Setelah berhasil menyelesaikan kuliah aljabar linier, mahasiswa akan memiliki pemahaman yang baik tentang topik berikut dan penerapannya:\n",
    "\n",
    "- System Persamaan LInier\n",
    "- Eliminasi Gausian\n",
    "- Penyelesaian sistem menggunakan eliminasi\n",
    "- Operasi Matrik\n",
    "- Matrik invers\n",
    "- Faktorisasi LU\n",
    "- Ruang vektor\n",
    "- Kombinasi Linier\n",
    "- Kebebasan Linier\n",
    "- Basis\n",
    "- Tranformasi linier\n",
    "- Orthogonalization\n",
    "- QR Factorization\n",
    "- Orthogonal Subspaces\n",
    "- Penyelesaian Least Squares\n",
    "- Proyeksi\n",
    "- Perkalian dalam (inner product)\n",
    "- Eigenvalue dan Eigen vektor\n"
   ]
  },
  {
   "cell_type": "markdown",
   "metadata": {
    "id": "6f9Hzd1VhuhG"
   },
   "source": [
    "### Sumber Referensi\n",
    "\n"
   ]
  },
  {
   "cell_type": "code",
   "execution_count": null,
   "metadata": {
    "executionInfo": {
     "elapsed": 12,
     "status": "ok",
     "timestamp": 1724489480456,
     "user": {
      "displayName": "mulaab",
      "userId": "07756279982606487994"
     },
     "user_tz": -420
    },
    "id": "n1lbeFSrhuhH"
   },
   "outputs": [],
   "source": []
  }
 ],
 "metadata": {
  "colab": {
   "provenance": []
  },
  "kernelspec": {
   "display_name": "Python 3 (ipykernel)",
   "language": "python",
   "name": "python3"
  },
  "language_info": {
   "codemirror_mode": {
    "name": "ipython",
    "version": 3
   },
   "file_extension": ".py",
   "mimetype": "text/x-python",
   "name": "python",
   "nbconvert_exporter": "python",
   "pygments_lexer": "ipython3",
   "version": "3.11.11"
  }
 },
 "nbformat": 4,
 "nbformat_minor": 4
}
