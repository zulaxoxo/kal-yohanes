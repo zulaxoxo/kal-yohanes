{
 "cells": [
  {
   "cell_type": "markdown",
   "metadata": {
    "id": "kvtpjLR2iV60"
   },
   "source": [
    "## Matrix Algebra"
   ]
  },
  {
   "cell_type": "markdown",
   "metadata": {
    "id": "jwJhAKbxiV7A"
   },
   "source": [
    "Pada bagian ini kita melihat Aljabar Matriks dan beberapa sifat umumnya. Kita juga akan melihat bagaimana operasi yang melibatkan matriks dihubungkan dengan sistem persamaan linier.\n",
    "\n",
    "**matriks** a adalah larik bilangan dua dimensi. Saat kita melakukan komputasi dengan matriks menggunakan NumPy, kita akan menggunakan array seperti yang kita lakukan sebelumnya. Mari kita tuliskan beberapa contoh matriks dan beri nama.\n",
    "\n",
    "$$\n",
    "\\begin{equation}\n",
    "A = \\left[ \\begin{array}{rr} 1 & 3 \\\\ 2 & 1 \\end{array}\\right] \\hspace{1cm}\n",
    "B = \\left[ \\begin{array}{rrr} 3 & 0 & 4 \\\\ -1 & -2 & 1 \\end{array}\\right] \\hspace{1cm}\n",
    "C = \\left[ \\begin{array}{rr} -2 & 1 \\\\ 4 & 1 \\end{array}\\right] \\hspace{1cm}\n",
    "D = \\left[ \\begin{array}{r} 2 \\\\ 6 \\end{array}\\right]\n",
    "\\end{equation}\n",
    "$$\n",
    "\n",
    "Saat mendiskusikan matriks, kita biasanya membicarakan dimensi, atau bentuknya, dengan menentukan jumlah baris dan kolom. Jumlah baris biasanya dicantumkan terlebih dahulu. Sebagai contoh, $A$ dan $C$ adalah matriks $2\\times 2$, $B$ adalah matriks $2 \\times 3$, dan $D$ adalah matriks $2 \\times 1 $. Matriks yang hanya memiliki 1 kolom, seperti $D$, biasa disebut **vektor**. Kita juga akan mematuhi konvensi ini, namun perlu diingat bahwa ketika kita membuat pernyataan tentang matriks, kita juga membuat pernyataan tentang vektor meskipun kita tidak menyebutkannya secara eksplisit. Kita juga akan mengadopsi konvensi umum penggunaan huruf besar untuk memberi nama matriks.\n",
    "\n",
    "Penting juga untuk membicarakan entri individual matriks. Notasi umum untuk ini adalah huruf kecil dengan subskrip untuk menunjukkan posisi entri dalam matriks. Jadi $b_{12}$ mengacu pada 0 pada baris pertama dan kolom kedua matriks $B$. Jika kita berbicara tentang posisi umum, kita mungkin menggunakan variabel di subskrip, seperti $a_{ij}$.\n",
    "\n",
    "Mari kita buat matriks ini sebagai array NumPy sebelum berdiskusi lebih lanjut."
   ]
  },
  {
   "cell_type": "code",
   "execution_count": 2,
   "metadata": {
    "colab": {
     "base_uri": "https://localhost:8080/"
    },
    "executionInfo": {
     "elapsed": 6,
     "status": "ok",
     "timestamp": 1709498183283,
     "user": {
      "displayName": "mulaab",
      "userId": "07756279982606487994"
     },
     "user_tz": -480
    },
    "id": "2GrYPouEiV7D",
    "outputId": "4853c911-6ad6-40e2-a362-89a73c354589"
   },
   "outputs": [
    {
     "name": "stdout",
     "output_type": "stream",
     "text": [
      "[[1 3]\n",
      " [2 1]]\n"
     ]
    }
   ],
   "source": [
    "import numpy as np\n",
    "A = np.array([[1, 3],[2,1]])\n",
    "B = np.array([[3, 0, 4],[-1, -2, 1]])\n",
    "C = np.array([[-2, 1],[4, 1]])\n",
    "D = np.array([[2],[6]])\n",
    "print(A)"
   ]
  },
  {
   "cell_type": "markdown",
   "metadata": {
    "id": "HD57vzk_iV7a"
   },
   "source": [
    "Bagian tersebut akan digunakan  untuk mengakses dimensi array kita. Saat array dibuat, informasi ini disimpan sebagai bagian dari objek array dan dapat diakses dengan metode yang disebut $\\texttt{shape}$. Jika $\\texttt{B}$ adalah sebuah array, objek $\\texttt{B.shape}$ itu sendiri adalah sebuah array yang memiliki dua nilai masukan. Yang pertama (*dengan indeks 0!*) adalah jumlah baris, dan yang kedua (*dengan indeks 1!*) adalah jumlah kolom."
   ]
  },
  {
   "cell_type": "code",
   "execution_count": 4,
   "metadata": {
    "colab": {
     "base_uri": "https://localhost:8080/"
    },
    "executionInfo": {
     "elapsed": 375,
     "status": "ok",
     "timestamp": 1709498558626,
     "user": {
      "displayName": "mulaab",
      "userId": "07756279982606487994"
     },
     "user_tz": -480
    },
    "id": "kZhjhc8KDFLc",
    "outputId": "2e2d6c9a-bc31-41fe-dde1-b7d414f9adb9"
   },
   "outputs": [
    {
     "name": "stdout",
     "output_type": "stream",
     "text": [
      "[[ 3  0  4]\n",
      " [-1 -2  1]]\n"
     ]
    }
   ],
   "source": [
    "print(B)"
   ]
  },
  {
   "cell_type": "code",
   "execution_count": null,
   "metadata": {
    "id": "-wS6TxqMiV7b",
    "outputId": "305c6e23-8bb2-4112-c644-c12023aac88a"
   },
   "outputs": [
    {
     "name": "stdout",
     "output_type": "stream",
     "text": [
      "Array B has 2 rows.\n",
      "Array B has 3 columns.\n"
     ]
    }
   ],
   "source": [
    "print(\"Array B has\",B.shape[0],\"rows.\")\n",
    "print(\"Array B has\",B.shape[1],\"columns.\")"
   ]
  },
  {
   "cell_type": "markdown",
   "metadata": {
    "id": "P1MOxCVGiV7d"
   },
   "source": [
    "### Operasi-operasi matrik\n",
    "\n",
    "Ada tiga operasi aljabar untuk matriks yang perlu kita lakukan. Untuk definisi kita, misalkan $A$ dan $C$ adalah matriks $m \\times n$,\n",
    "\n",
    "$B$ adalah matriks $n \\times k$, dan $c$ adalah suatu bilangan. Jika membahas aljabar yang melibatkan matriks dan bilangan, bilangan tersebut biasanya disebut dengan **skalar**.\n",
    "\n",
    "Operasi penjumlahan matrik diantaranya seperti berikut:\n",
    "\n",
    "1. Matriks dalam bentuk apa pun dapat dikalikan dengan skalar $c$, $d$. Hasilnya adalah semua elemen matrik dikalikan dengan skalar tersebut. Dengan menggunakan notasi subskrip, kita akan ditulis dengan\n",
    "\n",
    "$$\n",
    "(cA)_{ij} = ca_{ij}\n",
    "$$\n",
    "\n",
    "$$(c+d)A=cA+d{A}$$\n",
    "$$c(dA)=(cd)A$$\n",
    "$$c(A+B)=cA+cB$$\n",
    "$$ A  \\quad \\text{terdapat} \\quad  \\text{- A}, \\text{sehingga }  A+(- A)=0 $$\n",
    "\n",
    "\n",
    "2. Matriks yang *ukurannya sama* dapat dijumlahkan. Hasilnya adalah semua elemen yang bersesuaian ditambahkan dan ditulis dalam bentuk.\n",
    "\n",
    "$$\n",
    "(A+C)_{ij} = a_{ij} + c_{ij}\n",
    "$$\n",
    "$$A+{0}=A \\quad \\text{dimana ${0}$ matrik nol}$$\n",
    "$$A+ B= B+ A$$\n",
    "$$(A+B)+ C=A+(B+C)$$\n",
    "\n",
    "3. Jika banyaknya kolom dari matrik $A$ adalah sama dengan banyaknya baris matrik $B$, matrik dapat dikalikan dalam dengan bentuk perkalian  $A$, $B$.  Hasilnya adalah matrik $AB$, yang memiliki jumlah baris seperti\n",
    " jumlah baris matrik $A$ dan kolom sejumlah kolom matrik $B$.  Elemen-elemen $(AB)_{ij}$ adalah kombinasi elemen baris $i$ dari $A$ dan kolom $j$ dari $B$.\n",
    " $$\n",
    "(AB)_{ij} = \\sum_{k=1}^n a_{ik}b_{kj}\n",
    "$$\n",
    "\n",
    "  Karakteristik dari **_perkalian matrik_**$A$,$B$,$C$ dan $c$ skalar adalah sebagai berikut\n",
    "    - $ A({BC})=({AB}) C$\n",
    "    - $c({AB})=(cA)B=A(cB)$\n",
    "    - $A(B+ C)={AB}+{AC}$\n",
    "    - $(B+C)A={BA}+{CA}$\n",
    "\n",
    "Perlu juga dicatat bahwa sifat komutatif umumnya tidak berlaku untuk perkalian matriks. Misalkan $A$ dan $B$ keduanya merupakan matriks $3\\times 3$. **Tidak benar secara umum** bahwa $AB = BA$.\n",
    "Tetapi ada cara untuk menentukan dua matrik saling komutatif\n",
    "\n"
   ]
  },
  {
   "cell_type": "code",
   "execution_count": null,
   "metadata": {
    "id": "Ug29Jz3PIw5Q"
   },
   "outputs": [],
   "source": [
    "a, b, c, d, e, f, g, h, i, j, k, l, m, n, o, p, q, r, s, t, u, v, w, x, y, z = sy.symbols('a, b, c, d, e, f, g, h, i, j, k, l, m, n, o, p, q, r, s, t, u, v, w, x, y, z', real = True)"
   ]
  },
  {
   "cell_type": "code",
   "execution_count": null,
   "metadata": {
    "colab": {
     "base_uri": "https://localhost:8080/",
     "height": 58
    },
    "executionInfo": {
     "elapsed": 526,
     "status": "ok",
     "timestamp": 1706597521353,
     "user": {
      "displayName": "mulaab",
      "userId": "07756279982606487994"
     },
     "user_tz": -480
    },
    "id": "rIAhxZxoI1JG",
    "outputId": "16a64d80-6546-497d-bcc6-45510f01170f"
   },
   "outputs": [
    {
     "data": {
      "text/latex": [
       "$\\displaystyle \\left[\\begin{matrix}2 a & 2 b & 2 c\\\\2 d & 2 e & 2 f\\end{matrix}\\right]$"
      ],
      "text/plain": [
       "⎡2⋅a  2⋅b  2⋅c⎤\n",
       "⎢             ⎥\n",
       "⎣2⋅d  2⋅e  2⋅f⎦"
      ]
     },
     "execution_count": 4,
     "metadata": {},
     "output_type": "execute_result"
    }
   ],
   "source": [
    "A = sy.Matrix([[a, b, c], [d, e, f]])\n",
    "A + A\n"
   ]
  },
  {
   "cell_type": "code",
   "execution_count": null,
   "metadata": {
    "colab": {
     "base_uri": "https://localhost:8080/",
     "height": 58
    },
    "executionInfo": {
     "elapsed": 16,
     "status": "ok",
     "timestamp": 1706597529786,
     "user": {
      "displayName": "mulaab",
      "userId": "07756279982606487994"
     },
     "user_tz": -480
    },
    "id": "Wm0uDFnbI6uI",
    "outputId": "22894503-c57a-4783-8afe-60b7fcebd4e6"
   },
   "outputs": [
    {
     "data": {
      "text/latex": [
       "$\\displaystyle \\left[\\begin{matrix}0 & 0 & 0\\\\0 & 0 & 0\\end{matrix}\\right]$"
      ],
      "text/plain": [
       "⎡0  0  0⎤\n",
       "⎢       ⎥\n",
       "⎣0  0  0⎦"
      ]
     },
     "execution_count": 5,
     "metadata": {},
     "output_type": "execute_result"
    }
   ],
   "source": [
    "A - A"
   ]
  },
  {
   "cell_type": "code",
   "execution_count": null,
   "metadata": {
    "colab": {
     "base_uri": "https://localhost:8080/",
     "height": 58
    },
    "executionInfo": {
     "elapsed": 497,
     "status": "ok",
     "timestamp": 1706597558317,
     "user": {
      "displayName": "mulaab",
      "userId": "07756279982606487994"
     },
     "user_tz": -480
    },
    "id": "OEH2uWNhJBdw",
    "outputId": "3045aa22-6e84-4cab-f2fc-1ef64bcd993f"
   },
   "outputs": [
    {
     "data": {
      "text/latex": [
       "$\\displaystyle \\left[\\begin{matrix}a - g & b - h & c - i\\\\d - j & e - k & f - l\\end{matrix}\\right]$"
      ],
      "text/plain": [
       "⎡a - g  b - h  c - i⎤\n",
       "⎢                   ⎥\n",
       "⎣d - j  e - k  f - l⎦"
      ]
     },
     "execution_count": 6,
     "metadata": {},
     "output_type": "execute_result"
    }
   ],
   "source": [
    "B = sy.Matrix([[g, h, i], [j, k, l]])\n",
    "A + B\n",
    "A - B"
   ]
  },
  {
   "cell_type": "markdown",
   "metadata": {
    "id": "Z_yl9qfRIqmu"
   },
   "source": []
  },
  {
   "cell_type": "code",
   "execution_count": null,
   "metadata": {
    "colab": {
     "base_uri": "https://localhost:8080/",
     "height": 78
    },
    "executionInfo": {
     "elapsed": 546,
     "status": "ok",
     "timestamp": 1706597620112,
     "user": {
      "displayName": "mulaab",
      "userId": "07756279982606487994"
     },
     "user_tz": -480
    },
    "id": "XdkugHtIJQfm",
    "outputId": "410e9945-facf-4f8c-a228-e2650d35f7d9"
   },
   "outputs": [
    {
     "data": {
      "text/latex": [
       "$\\displaystyle \\left[\\begin{matrix}g & h & i\\\\j & k & l\\\\m & n & o\\end{matrix}\\right]$"
      ],
      "text/plain": [
       "⎡g  h  i⎤\n",
       "⎢       ⎥\n",
       "⎢j  k  l⎥\n",
       "⎢       ⎥\n",
       "⎣m  n  o⎦"
      ]
     },
     "execution_count": 7,
     "metadata": {},
     "output_type": "execute_result"
    }
   ],
   "source": [
    "A = sy.Matrix([[a, b, c], [d, e, f]])\n",
    "B = sy.Matrix([[g, h, i], [j, k, l], [m, n, o]])\n",
    "A\n",
    "B"
   ]
  },
  {
   "cell_type": "code",
   "execution_count": null,
   "metadata": {
    "colab": {
     "base_uri": "https://localhost:8080/",
     "height": 58
    },
    "executionInfo": {
     "elapsed": 808,
     "status": "ok",
     "timestamp": 1706597644709,
     "user": {
      "displayName": "mulaab",
      "userId": "07756279982606487994"
     },
     "user_tz": -480
    },
    "id": "Do14aaAiJWi0",
    "outputId": "fecfc673-6a8a-4ad7-cb15-23dc03c1b464"
   },
   "outputs": [
    {
     "data": {
      "text/latex": [
       "$\\displaystyle \\left[\\begin{matrix}a g + b j + c m & a h + b k + c n & a i + b l + c o\\\\d g + e j + f m & d h + e k + f n & d i + e l + f o\\end{matrix}\\right]$"
      ],
      "text/plain": [
       "⎡a⋅g + b⋅j + c⋅m  a⋅h + b⋅k + c⋅n  a⋅i + b⋅l + c⋅o⎤\n",
       "⎢                                                 ⎥\n",
       "⎣d⋅g + e⋅j + f⋅m  d⋅h + e⋅k + f⋅n  d⋅i + e⋅l + f⋅o⎦"
      ]
     },
     "execution_count": 8,
     "metadata": {},
     "output_type": "execute_result"
    }
   ],
   "source": [
    "AB = A*B; AB"
   ]
  },
  {
   "cell_type": "code",
   "execution_count": null,
   "metadata": {
    "colab": {
     "base_uri": "https://localhost:8080/"
    },
    "executionInfo": {
     "elapsed": 10,
     "status": "ok",
     "timestamp": 1706597812330,
     "user": {
      "displayName": "mulaab",
      "userId": "07756279982606487994"
     },
     "user_tz": -480
    },
    "id": "BHr_xTS_JoL_",
    "outputId": "5594b4dc-443c-4ce0-d324-ebdf2baa8eda"
   },
   "outputs": [
    {
     "name": "stdout",
     "output_type": "stream",
     "text": [
      "Matrix([[23, 13], [51, 29]])\n",
      "Matrix([[36, 44], [13, 16]])\n"
     ]
    }
   ],
   "source": [
    "A = sy.Matrix([[3, 4], [7, 8]])\n",
    "B = sy.Matrix([[5, 3], [2, 1]])\n",
    "C=A*B;C\n",
    "D=B*A;D\n",
    "print(C)\n",
    "print(D)"
   ]
  },
  {
   "cell_type": "markdown",
   "metadata": {
    "id": "TtijKwazKIcV"
   },
   "source": [
    "### Cara menemukan dua matrik bersifat komutatif"
   ]
  },
  {
   "cell_type": "code",
   "execution_count": null,
   "metadata": {
    "colab": {
     "base_uri": "https://localhost:8080/",
     "height": 58
    },
    "executionInfo": {
     "elapsed": 483,
     "status": "ok",
     "timestamp": 1706597909882,
     "user": {
      "displayName": "mulaab",
      "userId": "07756279982606487994"
     },
     "user_tz": -480
    },
    "id": "1YERIUgkKQto",
    "outputId": "f66e291c-1e27-4cf5-ff84-e185be4a07c6"
   },
   "outputs": [
    {
     "data": {
      "text/latex": [
       "$\\displaystyle \\left[\\begin{matrix}a e + c f & b e + d f\\\\a g + c h & b g + d h\\end{matrix}\\right]$"
      ],
      "text/plain": [
       "⎡a⋅e + c⋅f  b⋅e + d⋅f⎤\n",
       "⎢                    ⎥\n",
       "⎣a⋅g + c⋅h  b⋅g + d⋅h⎦"
      ]
     },
     "execution_count": 15,
     "metadata": {},
     "output_type": "execute_result"
    }
   ],
   "source": [
    "A = sy.Matrix([[a, b], [c, d]])\n",
    "B = sy.Matrix([[e, f], [g, h]])\n",
    "A*B\n",
    "B*A"
   ]
  },
  {
   "cell_type": "markdown",
   "metadata": {
    "id": "yddq6XnaKgcd"
   },
   "source": [
    "Untuk menunjukkan  ${AB} = {BA}$, kita perlu membuktikan ${AB} - {BA} = 0$"
   ]
  },
  {
   "cell_type": "code",
   "execution_count": null,
   "metadata": {
    "colab": {
     "base_uri": "https://localhost:8080/",
     "height": 58
    },
    "executionInfo": {
     "elapsed": 10,
     "status": "ok",
     "timestamp": 1706597966502,
     "user": {
      "displayName": "mulaab",
      "userId": "07756279982606487994"
     },
     "user_tz": -480
    },
    "id": "GB7TJYXtKlKg",
    "outputId": "2ae33a48-f2d0-4567-a60e-0548ccc2ae47"
   },
   "outputs": [
    {
     "data": {
      "text/latex": [
       "$\\displaystyle \\left[\\begin{matrix}b g - c f & a f - b e + b h - d f\\\\- a g + c e - c h + d g & - b g + c f\\end{matrix}\\right]$"
      ],
      "text/plain": [
       "⎡      b⋅g - c⋅f         a⋅f - b⋅e + b⋅h - d⋅f⎤\n",
       "⎢                                             ⎥\n",
       "⎣-a⋅g + c⋅e - c⋅h + d⋅g       -b⋅g + c⋅f      ⎦"
      ]
     },
     "execution_count": 16,
     "metadata": {},
     "output_type": "execute_result"
    }
   ],
   "source": [
    "M = A*B - B*A; M"
   ]
  },
  {
   "cell_type": "markdown",
   "metadata": {
    "id": "kxPkFFyJKsWZ"
   },
   "source": [
    "Itu artinya\n",
    "\\begin{align}\n",
    "b g - c f&=0 \\\\\n",
    " a f - b e + b h - d f&=0\\\\\n",
    "- a g + c e - c h + d g&=0 \\\\\n",
    "- b g + c f&=0\n",
    "\\end{align}"
   ]
  },
  {
   "cell_type": "markdown",
   "metadata": {
    "id": "OCji8UFnLFbx"
   },
   "source": [
    "Jika kita menganggap  $a, b, c, d$ sebagai koefisien sistem, kita mengekstrak augmented matrix"
   ]
  },
  {
   "cell_type": "code",
   "execution_count": null,
   "metadata": {
    "colab": {
     "base_uri": "https://localhost:8080/",
     "height": 98
    },
    "executionInfo": {
     "elapsed": 499,
     "status": "ok",
     "timestamp": 1706598184473,
     "user": {
      "displayName": "mulaab",
      "userId": "07756279982606487994"
     },
     "user_tz": -480
    },
    "id": "q3CKxlSKLaKW",
    "outputId": "e6f02340-74eb-4c0d-a241-86c37fb4dcd0"
   },
   "outputs": [
    {
     "data": {
      "text/latex": [
       "$\\displaystyle \\left[\\begin{matrix}0 & - c & b & 0\\\\- b & a - d & 0 & b\\\\c & 0 & - a + d & - c\\\\0 & c & - b & 0\\end{matrix}\\right]$"
      ],
      "text/plain": [
       "⎡0    -c      b     0 ⎤\n",
       "⎢                     ⎥\n",
       "⎢-b  a - d    0     b ⎥\n",
       "⎢                     ⎥\n",
       "⎢c     0    -a + d  -c⎥\n",
       "⎢                     ⎥\n",
       "⎣0     c      -b    0 ⎦"
      ]
     },
     "execution_count": 18,
     "metadata": {},
     "output_type": "execute_result"
    }
   ],
   "source": [
    "A_aug = sy.Matrix([[0, -c, b, 0], [-b, a-d, 0, b], [c, 0, d -a, -c], [0, c, -b, 0]]); A_aug"
   ]
  },
  {
   "cell_type": "markdown",
   "metadata": {
    "id": "WswUr40ELieW"
   },
   "source": [
    "Melakukan eliminasi  **Gaussian-Jordon** hingga  baris tereduksi"
   ]
  },
  {
   "cell_type": "code",
   "execution_count": null,
   "metadata": {
    "colab": {
     "base_uri": "https://localhost:8080/",
     "height": 100
    },
    "executionInfo": {
     "elapsed": 642,
     "status": "ok",
     "timestamp": 1706598280638,
     "user": {
      "displayName": "mulaab",
      "userId": "07756279982606487994"
     },
     "user_tz": -480
    },
    "id": "Q9CdSruKLxxy",
    "outputId": "ec6522fe-7424-449a-f5fe-2549b70ade8e"
   },
   "outputs": [
    {
     "data": {
      "text/latex": [
       "$\\displaystyle \\left( \\left[\\begin{matrix}1 & 0 & - \\frac{a}{c} + \\frac{d}{c} & -1\\\\0 & 1 & - \\frac{b}{c} & 0\\\\0 & 0 & 0 & 0\\\\0 & 0 & 0 & 0\\end{matrix}\\right], \\  \\left( 0, \\  1\\right)\\right)$"
      ],
      "text/plain": [
       "⎛⎡        a   d    ⎤        ⎞\n",
       "⎜⎢1  0  - ─ + ─  -1⎥        ⎟\n",
       "⎜⎢        c   c    ⎥        ⎟\n",
       "⎜⎢                 ⎥        ⎟\n",
       "⎜⎢        -b       ⎥        ⎟\n",
       "⎜⎢0  1    ───    0 ⎥, (0, 1)⎟\n",
       "⎜⎢         c       ⎥        ⎟\n",
       "⎜⎢                 ⎥        ⎟\n",
       "⎜⎢0  0     0     0 ⎥        ⎟\n",
       "⎜⎢                 ⎥        ⎟\n",
       "⎝⎣0  0     0     0 ⎦        ⎠"
      ]
     },
     "execution_count": 19,
     "metadata": {},
     "output_type": "execute_result"
    }
   ],
   "source": [
    "A_aug.rref()"
   ]
  },
  {
   "cell_type": "markdown",
   "metadata": {
    "id": "HTdYlCT4L-Bw"
   },
   "source": [
    "Penyelesaian secara umum adalah\n",
    "\\begin{align}\n",
    "e - \\frac{a-d}cg - h &=0\\\\\n",
    "f - \\frac{b}{c} & =0\\\\\n",
    "g &= free\\\\\n",
    "h & =free\n",
    "\\end{align}"
   ]
  },
  {
   "cell_type": "markdown",
   "metadata": {
    "id": "xqVDDry7Mcm3"
   },
   "source": [
    "Jika kita tentukan koefisien  $a = 10, b = 12, c = 20, d = 8$, atau $ A = \\left[\\begin{matrix}10 & 12\\\\20 & 8\\end{matrix}\\right]$ maka penyelesaiannya secara umum adalah\n",
    "\n",
    "\n",
    "\\begin{align}\n",
    "e - .1g - h &=0\\\\\n",
    "f - .6 & =0\\\\\n",
    "g &= free\\\\\n",
    "h & =free\n",
    "\\end{align}\n",
    "Maka coba memberi penyelesaian jika  $g = h = 1$\n",
    "\\begin{align}\n",
    "e  &=1.1\\\\\n",
    "f & =.6\\\\\n",
    "g &=1 \\\\\n",
    "h & =1\n",
    "\\end{align}\n",
    "Dan ini adalah matrik komutatif dari  **commutable matrix of $A$**, kita notasikan dengan  $ B$.\n",
    "\n",
    "**Latihan soal**\n",
    "Carilah matrik komutatif dari A ukuran matrik 4 x 4  yang sehingga matrik A*B=B*A"
   ]
  },
  {
   "cell_type": "code",
   "execution_count": null,
   "metadata": {
    "colab": {
     "base_uri": "https://localhost:8080/",
     "height": 58
    },
    "executionInfo": {
     "elapsed": 549,
     "status": "ok",
     "timestamp": 1706598807890,
     "user": {
      "displayName": "mulaab",
      "userId": "07756279982606487994"
     },
     "user_tz": -480
    },
    "id": "HANVgSuiNyaG",
    "outputId": "f2706b99-8616-483f-84ea-6ff80c38e522"
   },
   "outputs": [
    {
     "data": {
      "text/latex": [
       "$\\displaystyle \\left[\\begin{matrix}1.1 & 0.6\\\\1 & 1\\end{matrix}\\right]$"
      ],
      "text/plain": [
       "⎡1.1  0.6⎤\n",
       "⎢        ⎥\n",
       "⎣ 1    1 ⎦"
      ]
     },
     "execution_count": 20,
     "metadata": {},
     "output_type": "execute_result"
    }
   ],
   "source": [
    "C = sy.Matrix([[1.1, .6], [1, 1]]);C"
   ]
  },
  {
   "cell_type": "markdown",
   "metadata": {
    "id": "6ms8bEtbN5v1"
   },
   "source": [
    "Now we can see that ${AC}={CA}$."
   ]
  },
  {
   "cell_type": "code",
   "execution_count": null,
   "metadata": {
    "colab": {
     "base_uri": "https://localhost:8080/",
     "height": 58
    },
    "executionInfo": {
     "elapsed": 12,
     "status": "ok",
     "timestamp": 1706598877861,
     "user": {
      "displayName": "mulaab",
      "userId": "07756279982606487994"
     },
     "user_tz": -480
    },
    "id": "egMGPnpUN_HL",
    "outputId": "1b57cea2-654c-4512-ed54-457494c5762f"
   },
   "outputs": [
    {
     "data": {
      "text/latex": [
       "$\\displaystyle \\left[\\begin{matrix}23.0 & 18.0\\\\30.0 & 20.0\\end{matrix}\\right]$"
      ],
      "text/plain": [
       "⎡23.0  18.0⎤\n",
       "⎢          ⎥\n",
       "⎣30.0  20.0⎦"
      ]
     },
     "execution_count": 22,
     "metadata": {},
     "output_type": "execute_result"
    }
   ],
   "source": [
    "A = sy.Matrix([[10, 12], [20, 8]])\n",
    "A*C\n",
    "C*A\n"
   ]
  },
  {
   "cell_type": "markdown",
   "metadata": {
    "id": "iLKzi_H9Inw9"
   },
   "source": [
    "Operasi ini dikenal  sebagai **perkalian matriks**.\n",
    "\n",
    "Marilah kita jelaskan dengan beberapa contoh dari Operasi matrik berikut:\n",
    "\n",
    "1.  Perkalian bilangan(skalar) dan matrik:\n",
    "\n",
    "$$\n",
    "\\begin{equation}\n",
    "3A = 3\\left[ \\begin{array}{rr} 1 & 3 \\\\ 2 & 1 \\end{array}\\right]\n",
    "= \\left[ \\begin{array}{rr} 3 & 9 \\\\ 6 & 3 \\end{array}\\right]\n",
    "\\end{equation}\n",
    "$$\n",
    "\n",
    "2. Jumlah dari dua matrik yang sama ukurannnya\n",
    "\n",
    "$$\n",
    "\\begin{equation}\n",
    "A + C = \\left[ \\begin{array}{rr} 1 & 3 \\\\ 2 & 1 \\end{array}\\right] +\n",
    "\\left[ \\begin{array}{rr} -2 & 1 \\\\ 4 & 1 \\end{array}\\right]\n",
    "= \\left[ \\begin{array}{rr} -1 & 4 \\\\ 6 & 2 \\end{array}\\right]\n",
    "\\end{equation}\n",
    "$$\n",
    "\n",
    "3.  Perkalian dari dua matrik:\n",
    "\n",
    "\n",
    "Contoh perkalian matrik\n",
    "\n",
    "$$\n",
    "\\begin{equation}\n",
    "AB = \\left[ \\begin{array}{rr} 1 & 3 \\\\ 2 & 1 \\end{array}\\right]\n",
    "\\left[ \\begin{array}{rrr} 3 & 0 & 4 \\\\ -1 & -2 & 1 \\end{array}\\right]\n",
    " = \\left[ \\begin{array}{rrr} 0 & -6 & 7  \\\\  5 & -2 & 9  \\end{array}\\right]\n",
    " \\end{equation}\n",
    "$$\n",
    "\n",
    "Untuk memperjelas apa yang terjadi dalam perkalian matriks, mari kita hitung dua elemen secara detail.\n",
    "\n",
    "$$\n",
    "\\begin{eqnarray*}\n",
    "(AB)_{12} & = & 1\\times 0 + 3 \\times (-2) = -6 \\\\\n",
    "(AB)_{23} & = & 2 \\times 4 + 1 \\times 1 = 9\n",
    "\\end{eqnarray*}\n",
    "$$\n",
    "\n",
    "Semua operasi matriks ini ada di NumPy, tetapi kita harus menggunakan simbol $\\texttt{@}$ menggantikan  $\\texttt{*}$ untuk perkalian matriks."
   ]
  },
  {
   "cell_type": "code",
   "execution_count": null,
   "metadata": {
    "id": "FbmRoEOVFvuK"
   },
   "outputs": [],
   "source": [
    "import matplotlib.pyplot as plt\n",
    "import numpy as np\n",
    "from mpl_toolkits.mplot3d import Axes3D\n",
    "import scipy as sp\n",
    "import sympy as sy\n",
    "sy.init_printing()"
   ]
  },
  {
   "cell_type": "code",
   "execution_count": null,
   "metadata": {
    "id": "49LrMxHBiV7f",
    "outputId": "c7947af7-6b5a-490a-8e09-f129a6501953"
   },
   "outputs": [
    {
     "name": "stdout",
     "output_type": "stream",
     "text": [
      "[[3 9]\n",
      " [6 3]] \n",
      "\n",
      "[[-1  4]\n",
      " [ 6  2]] \n",
      "\n",
      "[[ 0 -6  7]\n",
      " [ 5 -2  9]]\n"
     ]
    }
   ],
   "source": [
    "print(3*A,'\\n')\n",
    "print(A+C,'\\n')\n",
    "print(A@B)"
   ]
  },
  {
   "cell_type": "code",
   "execution_count": null,
   "metadata": {
    "id": "i-WI-5MOiV7i",
    "outputId": "6c3c245c-d8cf-4f9e-f953-fd065c6a38d4"
   },
   "outputs": [
    {
     "name": "stdout",
     "output_type": "stream",
     "text": [
      "[[ 35 -11 -14]\n",
      " [-28  -7   7]\n",
      " [  3  22  13]]\n",
      "\n",
      "\n",
      "[[ 13  11  -4]\n",
      " [  7  44   4]\n",
      " [  8 -21 -16]]\n"
     ]
    }
   ],
   "source": [
    "A = np.random.randint(-5,5,size=(3,3))\n",
    "B = np.random.randint(-5,5,size=(3,3))\n",
    "\n",
    "print(A@B)\n",
    "print('\\n')\n",
    "print(B@A)"
   ]
  },
  {
   "cell_type": "markdown",
   "metadata": {
    "id": "WJCNhszaiV7k"
   },
   "source": [
    "### Matrik Transpose\n",
    "Hal  lainnya yang berguna bagi kita adalah transpose matriks. **transpose** matriks $A$ adalah matriks lain, $A^T$, yang merupakan matrik dimana  kolom-kolomnya merupakan baris-baris matrik $A$. Untuk membuat $A^T$, kita cukup menukar indeks baris dengan indeks kolom untuk setiap elemen-elemen, $a^T_{ij} = a_{ji}$. Dua contoh berikut untuk memperjelas pernyataan diatas.\n",
    "\n",
    "$$\n",
    "\\begin{equation}\n",
    "A = \\left[ \\begin{array}{rrr} 5 & 4 & 0 \\\\ 1 & 8 & 3 \\\\ 6 & 7 & 2\\end{array}\\right] \\hspace{1cm}\n",
    "A^T = \\left[ \\begin{array}{rrr} 5 & 1 & 6 \\\\ 4 & 8 & 7 \\\\ 0 & 3 & 2\\end{array}\\right] \\hspace{1cm}\n",
    "\\end{equation}\n",
    "$$\n",
    "\n",
    "$$\n",
    "\\begin{equation}\n",
    "B = \\left[ \\begin{array}{rrr} 1 & 2 & 7 & 0 \\\\ 3 & 1 & 5 & 2 \\\\ 4 & 9 & 8 & 6\\end{array}\\right] \\hspace{1cm}\n",
    "B^T = \\left[ \\begin{array}{rrr} 1 & 3 & 4 \\\\ 2 & 1 & 9 \\\\ 7 & 5 & 8 \\\\ 0 & 2 & 6\\end{array}\\right] \\hspace{1cm}\n",
    "\\end{equation}\n",
    "$$\n",
    "\n",
    "\n",
    "Objek array NumPy memiliki metode bernama **transpose** untuk tujuan ini."
   ]
  },
  {
   "cell_type": "code",
   "execution_count": null,
   "metadata": {
    "id": "A0aOwnypiV7l",
    "outputId": "e584441c-971d-4599-b6cb-3dc83e315810"
   },
   "outputs": [
    {
     "name": "stdout",
     "output_type": "stream",
     "text": [
      "[[5 4 0]\n",
      " [1 8 3]\n",
      " [6 7 2]]\n",
      "\n",
      "\n",
      "[[5 1 6]\n",
      " [4 8 7]\n",
      " [0 3 2]]\n"
     ]
    }
   ],
   "source": [
    "A = np.array([[5, 4, 0],[1, 8, 3],[6, 7, 2]])\n",
    "\n",
    "## Note that the tranpose method must be called with (), the same as a function with no arguments.\n",
    "A_T = A.transpose()\n",
    "\n",
    "print(A)\n",
    "print('\\n')\n",
    "print(A_T)"
   ]
  },
  {
   "cell_type": "markdown",
   "metadata": {
    "id": "GXlWqRDUiV7m"
   },
   "source": [
    "Jika matriks $A$ sama dengan transposnya sendiri, matriks tersebut mempunyai sifat simetris terhadap diagonal utamanya. Oleh karena itu matriks $A$ dikatakan **simetris** jika $A = A^T$. Dengan cara yang sama, kita dapat mengatakan bahwa $A$ simetris jika $a_{ij} = a_{ji}$ untuk setiap elemen $a_{ij}$ dalam matriks.\n",
    "\n",
    "Matriks $P$ di bawah ini adalah salah satu contohnya.\n",
    "\n",
    "$$\n",
    "\\begin{equation}\n",
    "P = \\left[ \\begin{array}{rrr} 1 & 0 & 6 \\\\ 0 & 3 & 5 \\\\ 6 & 5 & -2\\end{array}\\right] \\hspace{1cm}\n",
    "\\end{equation}\n",
    "$$\n",
    "\n",
    "Sama halnya, kita mengatakan bahwa matrik $A$ adalah **skew-symmetric** jika $A^T = -A$ (jika $a_{ij} = -a_{ji}$ untuk setiap elemen $a_{ij}$ dalam $A$). Matrik $Q$ berikut adalah matrik skew-symmetric.\n",
    "\n",
    "$$\n",
    "\\begin{equation}\n",
    "Q = \\left[ \\begin{array}{rrr} 0 & 1 & -4 \\\\ -1 & 0 & 5 \\\\ 4 & -5 & 0\\end{array}\\right] \\hspace{1cm}\n",
    "\\end{equation}\n",
    "$$\n"
   ]
  },
  {
   "cell_type": "markdown",
   "metadata": {
    "id": "QKPm3-TEOYBx"
   },
   "source": [
    "Karakteristk matrik transpose\n",
    "1. $(A^T)^T$\n",
    "2. $(A+B)^T=A^T+B^T$\n",
    "3. $(cA)^T=cA^T$\n",
    "4. $(AB)^T=B^TA^T$\n",
    "\n",
    "Kita dapat menunjukkan karakteristik terakhir  dengan SymPy, tentukan $A$ dan $B$, kalikan keduanya, lalu ubah urutannya, itu berarti $(AB)^T$"
   ]
  },
  {
   "cell_type": "code",
   "execution_count": null,
   "metadata": {
    "colab": {
     "base_uri": "https://localhost:8080/",
     "height": 78
    },
    "executionInfo": {
     "elapsed": 512,
     "status": "ok",
     "timestamp": 1706599085375,
     "user": {
      "displayName": "mulaab",
      "userId": "07756279982606487994"
     },
     "user_tz": -480
    },
    "id": "5e5MuV4_O2Yk",
    "outputId": "c048b1e3-8dae-41a7-b612-6c1b934c259e"
   },
   "outputs": [
    {
     "data": {
      "text/latex": [
       "$\\displaystyle \\left[\\begin{matrix}a g + b j & c g + d j & e g + f j\\\\a h + b k & c h + d k & e h + f k\\\\a i + b l & c i + d l & e i + f l\\end{matrix}\\right]$"
      ],
      "text/plain": [
       "⎡a⋅g + b⋅j  c⋅g + d⋅j  e⋅g + f⋅j⎤\n",
       "⎢                               ⎥\n",
       "⎢a⋅h + b⋅k  c⋅h + d⋅k  e⋅h + f⋅k⎥\n",
       "⎢                               ⎥\n",
       "⎣a⋅i + b⋅l  c⋅i + d⋅l  e⋅i + f⋅l⎦"
      ]
     },
     "execution_count": 23,
     "metadata": {},
     "output_type": "execute_result"
    }
   ],
   "source": [
    "A = sy.Matrix([[a, b], [c, d], [e, f]])\n",
    "B = sy.Matrix([[g, h, i], [j, k, l]])\n",
    "AB = A*B\n",
    "AB_tr = AB.transpose(); AB_tr"
   ]
  },
  {
   "cell_type": "markdown",
   "metadata": {
    "id": "lR5VXziOO_-u"
   },
   "source": [
    "Ubah urutannya masing-masing, lalu kalikan, yaitu $B^TA^T$"
   ]
  },
  {
   "cell_type": "code",
   "execution_count": null,
   "metadata": {
    "colab": {
     "base_uri": "https://localhost:8080/",
     "height": 78
    },
    "executionInfo": {
     "elapsed": 561,
     "status": "ok",
     "timestamp": 1706599163638,
     "user": {
      "displayName": "mulaab",
      "userId": "07756279982606487994"
     },
     "user_tz": -480
    },
    "id": "yDs_mkghPJay",
    "outputId": "ce0599e6-8a01-4020-fc5f-7c0df4f6d3ce"
   },
   "outputs": [
    {
     "data": {
      "text/latex": [
       "$\\displaystyle \\left[\\begin{matrix}a g + b j & c g + d j & e g + f j\\\\a h + b k & c h + d k & e h + f k\\\\a i + b l & c i + d l & e i + f l\\end{matrix}\\right]$"
      ],
      "text/plain": [
       "⎡a⋅g + b⋅j  c⋅g + d⋅j  e⋅g + f⋅j⎤\n",
       "⎢                               ⎥\n",
       "⎢a⋅h + b⋅k  c⋅h + d⋅k  e⋅h + f⋅k⎥\n",
       "⎢                               ⎥\n",
       "⎣a⋅i + b⋅l  c⋅i + d⋅l  e⋅i + f⋅l⎦"
      ]
     },
     "execution_count": 24,
     "metadata": {},
     "output_type": "execute_result"
    }
   ],
   "source": [
    "B_tr_A_tr = B.transpose()*A.transpose()\n",
    "B_tr_A_tr"
   ]
  },
  {
   "cell_type": "code",
   "execution_count": null,
   "metadata": {
    "colab": {
     "base_uri": "https://localhost:8080/",
     "height": 78
    },
    "executionInfo": {
     "elapsed": 777,
     "status": "ok",
     "timestamp": 1706599187511,
     "user": {
      "displayName": "mulaab",
      "userId": "07756279982606487994"
     },
     "user_tz": -480
    },
    "id": "XhuH0IepPPQh",
    "outputId": "d7c7e778-2f62-4360-e1f0-ed4498c1cd8e"
   },
   "outputs": [
    {
     "data": {
      "text/latex": [
       "$\\displaystyle \\left[\\begin{matrix}0 & 0 & 0\\\\0 & 0 & 0\\\\0 & 0 & 0\\end{matrix}\\right]$"
      ],
      "text/plain": [
       "⎡0  0  0⎤\n",
       "⎢       ⎥\n",
       "⎢0  0  0⎥\n",
       "⎢       ⎥\n",
       "⎣0  0  0⎦"
      ]
     },
     "execution_count": 25,
     "metadata": {},
     "output_type": "execute_result"
    }
   ],
   "source": [
    "AB_tr - B_tr_A_tr"
   ]
  },
  {
   "cell_type": "markdown",
   "metadata": {
    "id": "AousyOTD4I4R"
   },
   "source": [
    "### Matrik elementer"
   ]
  },
  {
   "cell_type": "markdown",
   "metadata": {
    "id": "Er2kHAgf4HEU"
   },
   "source": [
    "Matriks elementer adalah matriks yang dapat diperoleh dari satu operasi baris elementer pada suatu matriks identitas. Seperti:\n",
    "\n",
    "$$\n",
    "\\left[\\begin{matrix}1 & 0 & 0\\cr 0 & 1 & 0\\cr 0 & 0 & 1\\end{matrix}\\right]\\ \\matrix{R_1\\leftrightarrow R_2\\cr ~\\cr ~}\\qquad\\Longrightarrow\\qquad \\left[\\begin{matrix}0 & 1 & 0\\cr 1 & 0 & 0\\cr 0 & 0 & 1\\end{matrix}\\right]\n",
    "$$\n",
    "\n",
    "di mana $R_1\\leftrightarrow R_2$ berarti menukar baris $1$ dan baris $2$, dan kita nyatakan matriks yang ditransformasikan sebagai ${E}$, lalu kalikan $ E$ ke kiri pada matriks $ A$. Buatlah matrik $A$ terlebih dahulu"
   ]
  },
  {
   "cell_type": "code",
   "execution_count": null,
   "metadata": {
    "colab": {
     "base_uri": "https://localhost:8080/",
     "height": 78
    },
    "executionInfo": {
     "elapsed": 369,
     "status": "ok",
     "timestamp": 1706610193954,
     "user": {
      "displayName": "mulaab",
      "userId": "07756279982606487994"
     },
     "user_tz": -480
    },
    "id": "4r4VrYzZ5BjS",
    "outputId": "2ba8e53c-82ac-4201-f83d-4b89217ab04f"
   },
   "outputs": [
    {
     "data": {
      "text/latex": [
       "$\\displaystyle \\left[\\begin{matrix}74 & 37 & 0\\\\0 & 71 & 19\\\\41 & 36 & 19\\end{matrix}\\right]$"
      ],
      "text/plain": [
       "⎡74  37  0 ⎤\n",
       "⎢          ⎥\n",
       "⎢0   71  19⎥\n",
       "⎢          ⎥\n",
       "⎣41  36  19⎦"
      ]
     },
     "execution_count": 3,
     "metadata": {},
     "output_type": "execute_result"
    }
   ],
   "source": [
    "A = sy.randMatrix(3, percent = 80); A # generate a random matrix with 80% of entries being nonzero"
   ]
  },
  {
   "cell_type": "markdown",
   "metadata": {
    "id": "4kB9kT695gpG"
   },
   "source": [
    "Buat matriks elementer dengan $R_1\\leftrightarrow R_2$"
   ]
  },
  {
   "cell_type": "code",
   "execution_count": null,
   "metadata": {
    "colab": {
     "base_uri": "https://localhost:8080/",
     "height": 78
    },
    "executionInfo": {
     "elapsed": 332,
     "status": "ok",
     "timestamp": 1706610281023,
     "user": {
      "displayName": "mulaab",
      "userId": "07756279982606487994"
     },
     "user_tz": -480
    },
    "id": "2JGmJ0_65jtD",
    "outputId": "54f1008f-e7ad-4a20-dd02-9d9bf0c4619e"
   },
   "outputs": [
    {
     "data": {
      "text/latex": [
       "$\\displaystyle \\left[\\begin{matrix}0 & 1 & 0\\\\1 & 0 & 0\\\\0 & 0 & 1\\end{matrix}\\right]$"
      ],
      "text/plain": [
       "⎡0  1  0⎤\n",
       "⎢       ⎥\n",
       "⎢1  0  0⎥\n",
       "⎢       ⎥\n",
       "⎣0  0  1⎦"
      ]
     },
     "execution_count": 4,
     "metadata": {},
     "output_type": "execute_result"
    }
   ],
   "source": [
    "E = sy.Matrix([[0, 1, 0], [1, 0, 0], [0, 0, 1]]);E"
   ]
  },
  {
   "cell_type": "markdown",
   "metadata": {
    "id": "J2gov6hC5uvo"
   },
   "source": [
    "Yaitu dengan mengalikan $E$ ke $A$, $A$ juga mengganti baris $1$ dan $2$."
   ]
  },
  {
   "cell_type": "code",
   "execution_count": null,
   "metadata": {
    "colab": {
     "base_uri": "https://localhost:8080/",
     "height": 78
    },
    "executionInfo": {
     "elapsed": 385,
     "status": "ok",
     "timestamp": 1706610403386,
     "user": {
      "displayName": "mulaab",
      "userId": "07756279982606487994"
     },
     "user_tz": -480
    },
    "id": "DhScuC9_6Bh3",
    "outputId": "21031e66-4722-4da9-995f-988c7d7b1ce9"
   },
   "outputs": [
    {
     "data": {
      "text/latex": [
       "$\\displaystyle \\left[\\begin{matrix}0 & 71 & 19\\\\74 & 37 & 0\\\\41 & 36 & 19\\end{matrix}\\right]$"
      ],
      "text/plain": [
       "⎡0   71  19⎤\n",
       "⎢          ⎥\n",
       "⎢74  37  0 ⎥\n",
       "⎢          ⎥\n",
       "⎣41  36  19⎦"
      ]
     },
     "execution_count": 5,
     "metadata": {},
     "output_type": "execute_result"
    }
   ],
   "source": [
    "E*A"
   ]
  },
  {
   "cell_type": "code",
   "execution_count": null,
   "metadata": {
    "id": "6XXZgaVX6PxR"
   },
   "outputs": [],
   "source": []
  },
  {
   "cell_type": "markdown",
   "metadata": {
    "id": "A46-kCVl6gU8"
   },
   "source": [
    "Menambahkan hasil perkalian suatu baris ke baris lain dalam matriks identitas juga menghasilkan matriks elementer.\n",
    "$$\n",
    "\\left[\\begin{matrix}1 & 0 & 0\\cr 0 & 1 & 0\\cr 0 & 0 & 1\\end{matrix}\\right]\\ \\matrix{~\\cr ~\\cr R_3-7R_1}\\qquad\\longrightarrow\\left[\\begin{matrix}1 & 0 & 0\\cr 0 & 1 & 0\\cr -7 & 0 & 1\\end{matrix}\\right]\n",
    "$$\n",
    "\n",
    "Mari kita verifikasi dengan SymPy."
   ]
  },
  {
   "cell_type": "code",
   "execution_count": null,
   "metadata": {
    "colab": {
     "base_uri": "https://localhost:8080/",
     "height": 78
    },
    "executionInfo": {
     "elapsed": 318,
     "status": "ok",
     "timestamp": 1706610578502,
     "user": {
      "displayName": "mulaab",
      "userId": "07756279982606487994"
     },
     "user_tz": -480
    },
    "id": "3P16Erei6sYC",
    "outputId": "14317e03-421d-49f3-d23f-6f49f71b28db"
   },
   "outputs": [
    {
     "data": {
      "text/latex": [
       "$\\displaystyle \\left[\\begin{matrix}1 & 0 & 0\\\\0 & 1 & 0\\\\-7 & 0 & 1\\end{matrix}\\right]$"
      ],
      "text/plain": [
       "⎡1   0  0⎤\n",
       "⎢        ⎥\n",
       "⎢0   1  0⎥\n",
       "⎢        ⎥\n",
       "⎣-7  0  1⎦"
      ]
     },
     "execution_count": 6,
     "metadata": {},
     "output_type": "execute_result"
    }
   ],
   "source": [
    "A = sy.randMatrix(3, percent = 80); A\n",
    "E = sy.Matrix([[1, 0, 0], [0, 1, 0], [-7, 0, 1]]); E"
   ]
  },
  {
   "cell_type": "code",
   "execution_count": null,
   "metadata": {
    "colab": {
     "base_uri": "https://localhost:8080/",
     "height": 78
    },
    "executionInfo": {
     "elapsed": 369,
     "status": "ok",
     "timestamp": 1706610608200,
     "user": {
      "displayName": "mulaab",
      "userId": "07756279982606487994"
     },
     "user_tz": -480
    },
    "id": "mqRH_A0f6zlQ",
    "outputId": "97fe26fb-4513-4cd4-d096-7545359d2ed9"
   },
   "outputs": [
    {
     "data": {
      "text/latex": [
       "$\\displaystyle \\left[\\begin{matrix}71 & 24 & 55\\\\44 & 0 & 65\\\\-497 & -163 & -298\\end{matrix}\\right]$"
      ],
      "text/plain": [
       "⎡ 71    24    55 ⎤\n",
       "⎢                ⎥\n",
       "⎢ 44    0     65 ⎥\n",
       "⎢                ⎥\n",
       "⎣-497  -163  -298⎦"
      ]
     },
     "execution_count": 7,
     "metadata": {},
     "output_type": "execute_result"
    }
   ],
   "source": [
    "E*A"
   ]
  },
  {
   "cell_type": "markdown",
   "metadata": {
    "id": "dcY3mav27Hu9"
   },
   "source": [
    "Kami juga dapat menunjukkan ini dengan jelas  operasi baris  pada $A$."
   ]
  },
  {
   "cell_type": "code",
   "execution_count": null,
   "metadata": {
    "colab": {
     "base_uri": "https://localhost:8080/",
     "height": 78
    },
    "executionInfo": {
     "elapsed": 339,
     "status": "ok",
     "timestamp": 1706610731199,
     "user": {
      "displayName": "mulaab",
      "userId": "07756279982606487994"
     },
     "user_tz": -480
    },
    "id": "HpPMkDAA7Rm-",
    "outputId": "b10502aa-ae22-467c-cd85-0e8260757cae"
   },
   "outputs": [
    {
     "data": {
      "text/latex": [
       "$\\displaystyle \\left[\\begin{matrix}71 & 24 & 55\\\\44 & 0 & 65\\\\-497 & -163 & -298\\end{matrix}\\right]$"
      ],
      "text/plain": [
       "⎡ 71    24    55 ⎤\n",
       "⎢                ⎥\n",
       "⎢ 44    0     65 ⎥\n",
       "⎢                ⎥\n",
       "⎣-497  -163  -298⎦"
      ]
     },
     "execution_count": 8,
     "metadata": {},
     "output_type": "execute_result"
    }
   ],
   "source": [
    "EA = sy.matrices.MatrixBase.copy(A)\n",
    "EA[2,:]=-7*EA[0,:]+EA[2,:]\n",
    "EA"
   ]
  },
  {
   "cell_type": "markdown",
   "metadata": {
    "id": "5zBQ8x227eLy"
   },
   "source": [
    "Pada bagian selanjutnya, kita akan melihat ringkasan penting dari perkalian matriks elementer adalah bahwa **matriks yang dapat diinverskan** adalah hasil kali dari serangkaian matriks elementer."
   ]
  },
  {
   "cell_type": "markdown",
   "metadata": {
    "id": "He-plD-W8UIX"
   },
   "source": [
    "### Matrik Invers\n",
    "\n",
    "Jika ${AB}={BA}=\\mathbf{I}$, $B$ disebut invers matriks $A$, dilambangkan dengan $B= A^{-1}$.\n",
    "\n",
    "NumPy memiliki fungsi praktis ```np.linalg.inv()``` untuk menghitung matriks invers. Buatlah matrik  $A$"
   ]
  },
  {
   "cell_type": "code",
   "execution_count": null,
   "metadata": {
    "colab": {
     "base_uri": "https://localhost:8080/"
    },
    "executionInfo": {
     "elapsed": 451,
     "status": "ok",
     "timestamp": 1706611115262,
     "user": {
      "displayName": "mulaab",
      "userId": "07756279982606487994"
     },
     "user_tz": -480
    },
    "id": "rsMfnQjj8vXp",
    "outputId": "584c97f1-edb2-4508-f255-602ca3069b5a"
   },
   "outputs": [
    {
     "data": {
      "text/plain": [
       "array([[  6.,   1., -13.,  -9.,   3.],\n",
       "       [ -5., -14.,  -3.,  10.,  16.],\n",
       "       [ 13.,  -9.,   4.,  10.,  13.],\n",
       "       [ 20.,   5.,   3., -21., -19.],\n",
       "       [-19.,   5., -11.,  23.,   8.]])"
      ]
     },
     "execution_count": 9,
     "metadata": {},
     "output_type": "execute_result"
    }
   ],
   "source": [
    "A = np.round(10*np.random.randn(5,5)); A"
   ]
  },
  {
   "cell_type": "code",
   "execution_count": null,
   "metadata": {
    "colab": {
     "base_uri": "https://localhost:8080/"
    },
    "executionInfo": {
     "elapsed": 412,
     "status": "ok",
     "timestamp": 1706611132718,
     "user": {
      "displayName": "mulaab",
      "userId": "07756279982606487994"
     },
     "user_tz": -480
    },
    "id": "ZdrtA7_s8zja",
    "outputId": "85685fb2-a8be-41d3-c32f-e723e6fa0590"
   },
   "outputs": [
    {
     "data": {
      "text/plain": [
       "array([[ 0.01014464, -0.01263389,  0.04600856,  0.02924799,  0.0161636 ],\n",
       "       [ 0.04141734, -0.13267997,  0.03463886, -0.09214154, -0.02529588],\n",
       "       [-0.03192687, -0.05033892,  0.01305128, -0.06000397, -0.05106734],\n",
       "       [-0.0351626 ,  0.0225267 ,  0.02597012,  0.05656958,  0.0602839 ],\n",
       "       [ 0.05540071, -0.0810608 ,  0.03090247, -0.11809059, -0.06433534]])"
      ]
     },
     "execution_count": 10,
     "metadata": {},
     "output_type": "execute_result"
    }
   ],
   "source": [
    "Ainv = np.linalg.inv(A); Ainv"
   ]
  },
  {
   "cell_type": "markdown",
   "metadata": {
    "id": "yqfbsQYk8920"
   },
   "source": [
    "Verifikasi apakah keduanya benar-benar invers matrik terhadap satu sama lainnya"
   ]
  },
  {
   "cell_type": "code",
   "execution_count": null,
   "metadata": {
    "id": "8HPJEOX-9Jlr"
   },
   "outputs": [],
   "source": [
    "np.set_printoptions(precision=3)\n",
    "np.set_printoptions(suppress=True)\n"
   ]
  },
  {
   "cell_type": "code",
   "execution_count": null,
   "metadata": {
    "colab": {
     "base_uri": "https://localhost:8080/"
    },
    "executionInfo": {
     "elapsed": 9,
     "status": "ok",
     "timestamp": 1706611340442,
     "user": {
      "displayName": "mulaab",
      "userId": "07756279982606487994"
     },
     "user_tz": -480
    },
    "id": "Tlk3R0w39lgL",
    "outputId": "494493cf-b814-46f6-b51a-65cd50110ee0"
   },
   "outputs": [
    {
     "data": {
      "text/plain": [
       "array([[ 1.,  0.,  0., -0.,  0.],\n",
       "       [-0.,  1.,  0.,  0.,  0.],\n",
       "       [-0., -0.,  1.,  0.,  0.],\n",
       "       [ 0., -0.,  0.,  1.,  0.],\n",
       "       [ 0., -0., -0., -0.,  1.]])"
      ]
     },
     "execution_count": 14,
     "metadata": {},
     "output_type": "execute_result"
    }
   ],
   "source": [
    "A@Ainv"
   ]
  },
  {
   "cell_type": "markdown",
   "metadata": {
    "id": "x-s5PD-p99I6"
   },
   "source": [
    "```-0.``` berarti ada banyak digit setelah titik, tetapi dihilangkan di sini."
   ]
  },
  {
   "cell_type": "markdown",
   "metadata": {
    "id": "2tT0LLq9-OS5"
   },
   "source": [
    "Cara yang mudah untuk menghitung invers adalah dengan membuat matriks augmented $[ A\\,|\\,\\mathbf{I}]$, lalu mengalikan deret $E$ yang merupakan operasi baris elementer hingga matriks $A$ menjadi bentuk baris tereduksi, jika full rank berarti $A \\rightarrow \\mathbf{I}$. Kemudian $\\mathbf{I}$ pada RHS pada augmented matrix akan diubah menjadi $A^{-1}$ secara otomatis.\n",
    "\n",
    "\n",
    "Kita dapat menunjukkan dengan fungsi ```.rref()``` SymPy pada matriks augmented $[A\\,|\\,I]$."
   ]
  },
  {
   "cell_type": "code",
   "execution_count": null,
   "metadata": {
    "colab": {
     "base_uri": "https://localhost:8080/",
     "height": 206
    },
    "executionInfo": {
     "elapsed": 420,
     "status": "ok",
     "timestamp": 1706611897573,
     "user": {
      "displayName": "mulaab",
      "userId": "07756279982606487994"
     },
     "user_tz": -480
    },
    "id": "RA6cx80e-tZt",
    "outputId": "1dec31f9-918f-4436-bdd0-8424c9ccd892"
   },
   "outputs": [
    {
     "name": "stdout",
     "output_type": "stream",
     "text": [
      "[[1. 0. 0. 0. 0.]\n",
      " [0. 1. 0. 0. 0.]\n",
      " [0. 0. 1. 0. 0.]\n",
      " [0. 0. 0. 1. 0.]\n",
      " [0. 0. 0. 0. 1.]]\n"
     ]
    },
    {
     "data": {
      "text/latex": [
       "$\\displaystyle \\left[\\begin{matrix}6.0 & 1.0 & -13.0 & -9.0 & 3.0 & 1.0 & 0 & 0 & 0 & 0\\\\-5.0 & -14.0 & -3.0 & 10.0 & 16.0 & 0 & 1.0 & 0 & 0 & 0\\\\13.0 & -9.0 & 4.0 & 10.0 & 13.0 & 0 & 0 & 1.0 & 0 & 0\\\\20.0 & 5.0 & 3.0 & -21.0 & -19.0 & 0 & 0 & 0 & 1.0 & 0\\\\-19.0 & 5.0 & -11.0 & 23.0 & 8.0 & 0 & 0 & 0 & 0 & 1.0\\end{matrix}\\right]$"
      ],
      "text/plain": [
       "⎡ 6.0    1.0   -13.0  -9.0    3.0   1.0   0    0    0    0 ⎤\n",
       "⎢                                                          ⎥\n",
       "⎢-5.0   -14.0  -3.0   10.0   16.0    0   1.0   0    0    0 ⎥\n",
       "⎢                                                          ⎥\n",
       "⎢13.0   -9.0    4.0   10.0   13.0    0    0   1.0   0    0 ⎥\n",
       "⎢                                                          ⎥\n",
       "⎢20.0    5.0    3.0   -21.0  -19.0   0    0    0   1.0   0 ⎥\n",
       "⎢                                                          ⎥\n",
       "⎣-19.0   5.0   -11.0  23.0    8.0    0    0    0    0   1.0⎦"
      ]
     },
     "execution_count": 18,
     "metadata": {},
     "output_type": "execute_result"
    }
   ],
   "source": [
    "I = np.eye(5); I\n",
    "print(I)\n",
    "\n",
    "AI = np.hstack((A, I)) # stack the matrix A and I horizontally\n",
    "AI = sy.Matrix(AI); AI"
   ]
  },
  {
   "cell_type": "code",
   "execution_count": null,
   "metadata": {
    "colab": {
     "base_uri": "https://localhost:8080/",
     "height": 139
    },
    "executionInfo": {
     "elapsed": 516,
     "status": "ok",
     "timestamp": 1706611933428,
     "user": {
      "displayName": "mulaab",
      "userId": "07756279982606487994"
     },
     "user_tz": -480
    },
    "id": "R2rr8fhE_3Fn",
    "outputId": "08b92a7e-5612-430a-9598-46be231ce6d5"
   },
   "outputs": [
    {
     "data": {
      "text/latex": [
       "$\\displaystyle \\left( \\left[\\begin{matrix}1 & 0 & 0 & 0 & 0 & 0.0101446396249965 & -0.0126338939924791 & 0.0460085643995489 & 0.0292479863226459 & 0.0161635984926015\\\\0 & 1 & 0 & 0 & 0 & 0.0414173398991054 & -0.132679966769809 & 0.0346388624679437 & -0.0921415413511203 & -0.0252958811418664\\\\0 & 0 & 1 & 0 & 0 & -0.0319268694992595 & -0.0503389238715581 & 0.0130512780379739 & -0.0600039731750485 & -0.0510673392971092\\\\0 & 0 & 0 & 1 & 0 & -0.0351625991788772 & 0.0225266985323332 & 0.0259701169076658 & 0.0565695847430078 & 0.0602839014170991\\\\0 & 0 & 0 & 0 & 1 & 0.0554007087502157 & -0.0810607976048577 & 0.0309024725991387 & -0.118090588391105 & -0.0643353359740901\\end{matrix}\\right], \\  \\left( 0, \\  1, \\  2, \\  3, \\  4\\right)\\right)$"
      ],
      "text/plain": [
       "⎛⎡1  0  0  0  0  0.0101446396249965   -0.0126338939924791  0.0460085643995489 \n",
       "⎜⎢                                                                            \n",
       "⎜⎢0  1  0  0  0  0.0414173398991054   -0.132679966769809   0.0346388624679437 \n",
       "⎜⎢                                                                            \n",
       "⎜⎢0  0  1  0  0  -0.0319268694992595  -0.0503389238715581  0.0130512780379739 \n",
       "⎜⎢                                                                            \n",
       "⎜⎢0  0  0  1  0  -0.0351625991788772  0.0225266985323332   0.0259701169076658 \n",
       "⎜⎢                                                                            \n",
       "⎝⎣0  0  0  0  1  0.0554007087502157   -0.0810607976048577  0.0309024725991387 \n",
       "\n",
       " 0.0292479863226459   0.0161635984926015 ⎤                 ⎞\n",
       "                                         ⎥                 ⎟\n",
       " -0.0921415413511203  -0.0252958811418664⎥                 ⎟\n",
       "                                         ⎥                 ⎟\n",
       " -0.0600039731750485  -0.0510673392971092⎥, (0, 1, 2, 3, 4)⎟\n",
       "                                         ⎥                 ⎟\n",
       " 0.0565695847430078   0.0602839014170991 ⎥                 ⎟\n",
       "                                         ⎥                 ⎟\n",
       " -0.118090588391105   -0.0643353359740901⎦                 ⎠"
      ]
     },
     "execution_count": 19,
     "metadata": {},
     "output_type": "execute_result"
    }
   ],
   "source": [
    "AI_rref = AI.rref(); AI_rref"
   ]
  },
  {
   "cell_type": "markdown",
   "metadata": {
    "id": "LxM0Tdsc__YJ"
   },
   "source": [
    "Ekstrak blok RHS, ini adalah $A^{-1}$."
   ]
  },
  {
   "cell_type": "code",
   "execution_count": null,
   "metadata": {
    "colab": {
     "base_uri": "https://localhost:8080/",
     "height": 119
    },
    "executionInfo": {
     "elapsed": 685,
     "status": "ok",
     "timestamp": 1706612011740,
     "user": {
      "displayName": "mulaab",
      "userId": "07756279982606487994"
     },
     "user_tz": -480
    },
    "id": "Mz_B_We7AKH4",
    "outputId": "10ca6fb7-5c5d-4c50-87c5-66e4413fabd1"
   },
   "outputs": [
    {
     "data": {
      "text/latex": [
       "$\\displaystyle \\left[\\begin{matrix}0.0101446396249965 & -0.0126338939924791 & 0.0460085643995489 & 0.0292479863226459 & 0.0161635984926015\\\\0.0414173398991054 & -0.132679966769809 & 0.0346388624679437 & -0.0921415413511203 & -0.0252958811418664\\\\-0.0319268694992595 & -0.0503389238715581 & 0.0130512780379739 & -0.0600039731750485 & -0.0510673392971092\\\\-0.0351625991788772 & 0.0225266985323332 & 0.0259701169076658 & 0.0565695847430078 & 0.0602839014170991\\\\0.0554007087502157 & -0.0810607976048577 & 0.0309024725991387 & -0.118090588391105 & -0.0643353359740901\\end{matrix}\\right]$"
      ],
      "text/plain": [
       "⎡0.0101446396249965   -0.0126338939924791  0.0460085643995489  0.0292479863226\n",
       "⎢                                                                             \n",
       "⎢0.0414173398991054   -0.132679966769809   0.0346388624679437  -0.092141541351\n",
       "⎢                                                                             \n",
       "⎢-0.0319268694992595  -0.0503389238715581  0.0130512780379739  -0.060003973175\n",
       "⎢                                                                             \n",
       "⎢-0.0351625991788772  0.0225266985323332   0.0259701169076658  0.0565695847430\n",
       "⎢                                                                             \n",
       "⎣0.0554007087502157   -0.0810607976048577  0.0309024725991387  -0.118090588391\n",
       "\n",
       "459   0.0161635984926015 ⎤\n",
       "                         ⎥\n",
       "1203  -0.0252958811418664⎥\n",
       "                         ⎥\n",
       "0485  -0.0510673392971092⎥\n",
       "                         ⎥\n",
       "078   0.0602839014170991 ⎥\n",
       "                         ⎥\n",
       "105   -0.0643353359740901⎦"
      ]
     },
     "execution_count": 20,
     "metadata": {},
     "output_type": "execute_result"
    }
   ],
   "source": [
    "Ainv = AI_rref[0][:,5:];Ainv # extract the RHS block"
   ]
  },
  {
   "cell_type": "markdown",
   "metadata": {
    "id": "2PnllOHlATBX"
   },
   "source": [
    "Saya menulis fungsi untuk membulatkan angka float ke digit $4$th, di bagian atas file ini, tetapi ini tidak mutlak diperlukan."
   ]
  },
  {
   "cell_type": "code",
   "execution_count": null,
   "metadata": {
    "colab": {
     "base_uri": "https://localhost:8080/",
     "height": 119
    },
    "executionInfo": {
     "elapsed": 417,
     "status": "ok",
     "timestamp": 1706612110627,
     "user": {
      "displayName": "mulaab",
      "userId": "07756279982606487994"
     },
     "user_tz": -480
    },
    "id": "spq4o2LdAXyA",
    "outputId": "08342835-5628-4838-88ac-b754c8d3ca7d"
   },
   "outputs": [
    {
     "data": {
      "text/latex": [
       "$\\displaystyle \\left[\\begin{matrix}0.0101 & -0.0126 & 0.046 & 0.0292 & 0.0162\\\\0.0414 & -0.1327 & 0.0346 & -0.0921 & -0.0253\\\\-0.0319 & -0.0503 & 0.0131 & -0.06 & -0.0511\\\\-0.0352 & 0.0225 & 0.026 & 0.0566 & 0.0603\\\\0.0554 & -0.0811 & 0.0309 & -0.1181 & -0.0643\\end{matrix}\\right]$"
      ],
      "text/plain": [
       "⎡0.0101   -0.0126  0.046   0.0292   0.0162 ⎤\n",
       "⎢                                          ⎥\n",
       "⎢0.0414   -0.1327  0.0346  -0.0921  -0.0253⎥\n",
       "⎢                                          ⎥\n",
       "⎢-0.0319  -0.0503  0.0131   -0.06   -0.0511⎥\n",
       "⎢                                          ⎥\n",
       "⎢-0.0352  0.0225   0.026   0.0566   0.0603 ⎥\n",
       "⎢                                          ⎥\n",
       "⎣0.0554   -0.0811  0.0309  -0.1181  -0.0643⎦"
      ]
     },
     "execution_count": 22,
     "metadata": {},
     "output_type": "execute_result"
    }
   ],
   "source": [
    "def round_expr(expr, num_digits):\n",
    "    return expr.xreplace({n : round(n, num_digits) for n in expr.atoms(sy.Number)})\n",
    "\n",
    "round_expr(Ainv, 4)"
   ]
  },
  {
   "cell_type": "markdown",
   "metadata": {
    "id": "z_Avh3fYAqHo"
   },
   "source": [
    "Kita dapat memverifikasi apakah $AA^{-1}=\\mathbf{I}$"
   ]
  },
  {
   "cell_type": "code",
   "execution_count": null,
   "metadata": {
    "colab": {
     "base_uri": "https://localhost:8080/",
     "height": 119
    },
    "executionInfo": {
     "elapsed": 374,
     "status": "ok",
     "timestamp": 1706612178497,
     "user": {
      "displayName": "mulaab",
      "userId": "07756279982606487994"
     },
     "user_tz": -480
    },
    "id": "7wisU_fNAy0C",
    "outputId": "ef5743b1-66ba-469a-b77a-06cfd31812ed"
   },
   "outputs": [
    {
     "data": {
      "text/latex": [
       "$\\displaystyle \\left[\\begin{matrix}1.0 & 0 & 0 & 0 & 0\\\\0 & 1.0 & 0 & 0 & 0\\\\0 & 0 & 1.0 & 0 & 0\\\\0 & 0 & 0 & 1.0 & 0\\\\0 & 0 & 0 & 0 & 1.0\\end{matrix}\\right]$"
      ],
      "text/plain": [
       "⎡1.0   0    0    0    0 ⎤\n",
       "⎢                       ⎥\n",
       "⎢ 0   1.0   0    0    0 ⎥\n",
       "⎢                       ⎥\n",
       "⎢ 0    0   1.0   0    0 ⎥\n",
       "⎢                       ⎥\n",
       "⎢ 0    0    0   1.0   0 ⎥\n",
       "⎢                       ⎥\n",
       "⎣ 0    0    0    0   1.0⎦"
      ]
     },
     "execution_count": 23,
     "metadata": {},
     "output_type": "execute_result"
    }
   ],
   "source": [
    "A = sy.Matrix(A)\n",
    "round_expr(A*Ainv, 4)"
   ]
  },
  {
   "cell_type": "markdown",
   "metadata": {
    "id": "ghXxVAOXA89p"
   },
   "source": [
    "Kita mendapatkan $\\mathbf{I}$, yang berarti blok RHS memang $A^{-1}$."
   ]
  },
  {
   "cell_type": "markdown",
   "metadata": {
    "id": "6DM8yGpOBQ5h"
   },
   "source": [
    "#### Karakteristik matrik invers\n",
    "\n",
    "1. Jika $A$ dan $B$ keduanya dapat diinverskan, maka $(AB)^{-1}=B^{-1}A^{-1}$.\n",
    "2. Jika $A$ dapat diinverskan, maka $(A^T)^{-1}=(A^{-1})^T$.\n",
    "3. Jika $A$ dan $B$ keduanya dapat diinverskan dan simetris sehingga $AB=BA$, maka $A^{-1}B$ simetris."
   ]
  },
  {
   "cell_type": "markdown",
   "metadata": {
    "id": "lRh1hJd_bU5w"
   },
   "source": [
    "Karakteristik pertama sangat jelas\n",
    "\\begin{align}\n",
    "ABB^{-1}A^{-1}=AIA^{-1}=I=AB(AB)^{-1}\n",
    "\\end{align}"
   ]
  },
  {
   "cell_type": "markdown",
   "metadata": {
    "id": "unikAnqFbo5x"
   },
   "source": [
    "Trik karakter  kedua adalah menunjukkan hal itu\n",
    "$$\n",
    "A^T(A^{-1})^T = I\n",
    "$$\n",
    "Kita dapat menggunakan karakteristik matrik transpose\n",
    "$$\n",
    "A^T(A^{-1})^T=(A^{-1}A)^T = I^T = I\n",
    "$$"
   ]
  },
  {
   "cell_type": "markdown",
   "metadata": {
    "id": "8I4lhkzHb4-e"
   },
   "source": [
    "Karakteristik ketiga menunjukkan\n",
    "$$\n",
    "A^{-1}B = (A^{-1}B)^T\n",
    "$$\n",
    "Gunakan sifat matrik tanspose\n",
    "$$\n",
    "(A^{-1}B)^{T}=B^T(A^{-1})^T=B(A^T)^{-1}=BA^{-1}\n",
    "$$\n",
    "Kita menggunakan $AB = BA$ untuk memproses\n",
    "\\begin{align}\n",
    "AB&=BA\\\\\n",
    "A^{-1}ABA^{-1}&=A^{-1}BAA^{-1}\\\\\n",
    "BA^{-1}&=A^{-1}B\n",
    "\\end{align}\n",
    "Dimasukkan ke persaman sebelumnya kita dapatkan\n",
    "$$\n",
    "(A^{-1}B)^{T}=BA^{-1}=A^{-1}B\n",
    "$$"
   ]
  },
  {
   "cell_type": "markdown",
   "metadata": {
    "id": "Hh_4wdAFiV7n"
   },
   "source": [
    "### Aplikasi untuk sistem linier\n",
    "\n",
    "Contoh perkalian matriks adalah perkalian suatu matrik  dengan vektor yang *tidak diketahui* untuk mendapatkan vektor yang tidak diketahui. Misalkan kita memiliki matrik $A$, $B$ adalah vektor yang diketahui, dan $X$ menjadi vektor yang tidak diketahui, kita dapat menulis persamaan matriks $AX=B$ untuk menggambarkan perkalian matrik. Berikut contohnya.\n",
    "\n",
    "$$\n",
    "\\begin{equation}\n",
    "A= \\left[ \\begin{array}{rrr} 1 & 3 & -2 \\\\ 5 & 2 & 0 \\\\ 4 & 2 & -1 \\\\ 2 & 2 & 0 \\end{array}\\right] \\hspace{1cm}\n",
    "X= \\left[ \\begin{array}{r} x_1 \\\\ x_2 \\\\ x_3 \\end{array}\\right] \\hspace{1cm}\n",
    "B= \\left[ \\begin{array}{r} 0 \\\\ 10 \\\\ 7 \\\\ 4  \\end{array}\\right] \\hspace{1cm}\n",
    "\\end{equation}\n",
    "$$\n",
    "\n",
    "$$\n",
    "\\begin{equation}\n",
    "AX = \\left[ \\begin{array}{rrr} 1 & 3 & -2 \\\\ 5 & 2 & 0 \\\\ 4 & 2 & -1 \\\\ 2 & 2 & 0 \\end{array}\\right]\n",
    "\\left[ \\begin{array}{r} x_1 \\\\ x_2 \\\\ x_3 \\end{array}\\right]=\n",
    "\\left[ \\begin{array}{r} 0\\\\ 10 \\\\ 7 \\\\ 4  \\end{array}\\right]= B\n",
    "\\end{equation}\n",
    "$$\n",
    "\n",
    "Kita perhatikan bahwa persamaan matriks tunggal $AX=B$ sebenarnya mewakili sistem persamaan linier.\n",
    "\n",
    "$$\n",
    "\\begin{eqnarray*}\n",
    "x_1 + 3x_2 - 2x_3 & = & 0\\\\\n",
    "5x_1 + 2x_2 \\quad\\quad & = & 10 \\\\\n",
    "4x_1 + 2x_2 - x_3 & = & 7 \\\\\n",
    "2x_1 + 2x_2 \\quad\\quad & = & 4\n",
    "\\end{eqnarray*}\n",
    "$$\n",
    "\n",
    "Dalam hal ini, matriks $A$ dikenal sebagai **matriks koefisien**."
   ]
  },
  {
   "cell_type": "markdown",
   "metadata": {
    "id": "WxT_Z0J8iV7o"
   },
   "source": [
    "### Matrik identitas\n",
    "\n",
    "**Matriks identitas** adalah matriks bujursangkan yang sifatnya mirip dengan angka 1 jika dalam perkalian biasa. Matriks identitas, diberi label $I$, terdiri dari matriks dengan memiliki nilai 1 pada elemen-elemen  diagonal utama matrik , dan nol pada elemen lainya. Di bawah ini adalah versi $I$ denga ukuran matrik $4 \\times 4$.\n",
    "\n",
    "$$\n",
    "\\begin{equation}\n",
    "I = \\left[ \\begin{array}{ccc} 1 & 0 & 0 & 0 \\\\ 0 & 1 & 0 & 0 \\\\ 0 & 0 & 1 & 0\\\\ 0 & 0 & 0 & 1 \\end{array}\\right]\n",
    "\\end{equation}\n",
    "$$\n",
    "\n",
    "Jika $A$ adalah matriks $4 \\times 4$ , perkalian dengan $I$ akan menghasilkan $A$. Selain itu,berlaku juga sifat komutatif pada  perkalian matriknya\n",
    "\n",
    "$$\n",
    "\\begin{equation}\n",
    "AI = IA = A\n",
    "\\end{equation}\n",
    "$$\n",
    "\n",
    "Fungsi NumPy $\\texttt{eye}$ menghasilkan matriks identitas dengan ukuran yang ditentukan. Perhatikan bahwa kita hanya perlu memberikan $\\texttt{eye}$ dengan satu parameter karena matriks identitas harus berbentuk bujursangkar. Di sini kami menampilkan perkalian $I$ dengan matriks acak $5\\times 5$."
   ]
  },
  {
   "cell_type": "code",
   "execution_count": null,
   "metadata": {
    "colab": {
     "base_uri": "https://localhost:8080/"
    },
    "executionInfo": {
     "elapsed": 562,
     "status": "ok",
     "timestamp": 1706611849008,
     "user": {
      "displayName": "mulaab",
      "userId": "07756279982606487994"
     },
     "user_tz": -480
    },
    "id": "dp3lZuOKiV7r",
    "outputId": "69efd44a-32c2-4388-a919-0fa6d703de1a"
   },
   "outputs": [
    {
     "name": "stdout",
     "output_type": "stream",
     "text": [
      "[[1. 0. 0. 0. 0.]\n",
      " [0. 1. 0. 0. 0.]\n",
      " [0. 0. 1. 0. 0.]\n",
      " [0. 0. 0. 1. 0.]\n",
      " [0. 0. 0. 0. 1.]]\n"
     ]
    }
   ],
   "source": [
    "I = np.eye(5); I\n",
    "print(I)"
   ]
  },
  {
   "cell_type": "code",
   "execution_count": null,
   "metadata": {
    "id": "fmI0NQPeiV7s",
    "outputId": "89deadae-90eb-415b-f16f-505618d78ba1"
   },
   "outputs": [
    {
     "name": "stdout",
     "output_type": "stream",
     "text": [
      "[[ -7  -4  -2   2   7]\n",
      " [ -3  -8  -6  -7  -2]\n",
      " [  1   6   4  -8  -5]\n",
      " [ -3   9  -8  -2 -10]\n",
      " [ -9   9   0   2   2]]\n",
      "\n",
      "\n",
      "[[ -7.  -4.  -2.   2.   7.]\n",
      " [ -3.  -8.  -6.  -7.  -2.]\n",
      " [  1.   6.   4.  -8.  -5.]\n",
      " [ -3.   9.  -8.  -2. -10.]\n",
      " [ -9.   9.   0.   2.   2.]]\n",
      "\n",
      "\n",
      "[[ -7.  -4.  -2.   2.   7.]\n",
      " [ -3.  -8.  -6.  -7.  -2.]\n",
      " [  1.   6.   4.  -8.  -5.]\n",
      " [ -3.   9.  -8.  -2. -10.]\n",
      " [ -9.   9.   0.   2.   2.]]\n"
     ]
    }
   ],
   "source": [
    "R = np.random.randint(-10,10,size=(5,5))\n",
    "print(R)\n",
    "print('\\n')\n",
    "print(R@I5)\n",
    "print('\\n')\n",
    "print(I5@R)"
   ]
  },
  {
   "cell_type": "markdown",
   "metadata": {
    "id": "db2Yf7vHiV7t"
   },
   "source": [
    "Notes:\n",
    "\n",
    "1. Penghitungan secara aktual  dengan matriks identitas jarang dilakukan, namun ide ini berguna untuk penghitungan simbolis dan mengembangkan teori lebih lanjut.\n",
    "2. Jika kita membahas matriks bukan bujursangkar, maka kita harus berhati-hati dalam menggunakan matriks identitas dengan ukuran yang benar tergantung pada orde perkaliannya. Misalnya, jika $C$ adalah matriks $2\\times 3$, $I_2$ adalah identitas $2\\times 2$, dan $I_3$ adalah identitas $3\\times 3 $, kita akan mendapatkan hasil sebagai berikut.\n",
    "\n",
    "$$\n",
    "\\begin{equation}\n",
    "I_2 C = CI_3 = C\n",
    "\\end{equation}\n",
    "$$"
   ]
  },
  {
   "cell_type": "markdown",
   "metadata": {
    "id": "UD1jSKyxiV7u"
   },
   "source": [
    "### Perkalian Vektor-Matrik\n",
    "\n",
    "Salah satu kasus khusus perkalian matriks patut mendapat perhatian khusus, yaitu kasus dimana salah satu matriksnya adalah vektor. Kasus ini begitu penting sehingga lazim dibahas tersendiri dan diberi nama khusus, **perkalian matriks-vektor**. Misalkan $P$ adalah matriks  dan ukurannya adalah $n \\times m$, dan $Y$ adalah vektor dengan ukuran yaitu $m \\times 1$. Hasil kali $PY$ adalah vektor $n \\times 1$. Hubungan antara vektor baru ini dan kolom matriks $P$ inilah yang menjadikan hal ini penting.\n",
    "\n",
    "Berikut contoh khusus dalam hal ini\n",
    "\n",
    "$$\n",
    "\\begin{equation}\n",
    "P = \\left[ \\begin{array}{rrr} 1 & 3 & -2 \\\\ 5 & 2 & 0 \\\\ 4 & 2 & -1 \\\\ 2 & 2 & 0 \\end{array}\\right]\\hspace{1cm}\n",
    "Y = \\left[ \\begin{array}{r} 2 \\\\ -3 \\\\ 4 \\end{array}\\right]\n",
    "\\end{equation}\n",
    "$$\n",
    "\n",
    "Dalam kasus perkalian matriks-vektor ini, kita dapat membentuk penghitungannya sedikit berbeda untuk lebih memahami apa yang terjadi.\n",
    "\n",
    "$$\n",
    "\\begin{equation}\n",
    "PY = \\left[ \\begin{array}{rrr} 1 & 3 & -2 \\\\ 5 & 2 & 0 \\\\ 4 & 2 & -1 \\\\ 2 & 2 & 0 \\end{array}\\right]\n",
    "\\left[ \\begin{array}{r} 2 \\\\ -3 \\\\ 4 \\end{array}\\right]=\n",
    "2\\left[ \\begin{array}{r} 1 \\\\ 5 \\\\ 4 \\\\ 2 \\end{array}\\right] -\n",
    "3\\left[ \\begin{array}{r} 3 \\\\ 2 \\\\ 2 \\\\ 2 \\end{array}\\right] +\n",
    "4\\left[ \\begin{array}{r} -2 \\\\ 0 \\\\ -1 \\\\ 0 \\end{array}\\right] =\n",
    "\\left[ \\begin{array}{r} -15\\\\ 4 \\\\ -2 \\\\ -2  \\end{array}\\right]\n",
    "\\end{equation}\n",
    "$$\n",
    "\n",
    "Ini adalah operasi yang sama yang kita lakukan sebelumnya, tetapi sekarang kita melihat bahwa perkalian ini adalah hasil penjumlahan kolom $P$ setelah terlebih dahulu mengalikan masing-masing kolom dengan elemen-elemen terkait di $Y$."
   ]
  },
  {
   "cell_type": "markdown",
   "metadata": {
    "id": "ACG2kIjriV7v"
   },
   "source": [
    "### Perkalian matrik dengan kolom-kolom\n",
    "\n",
    "Kita dapat mengembangkan  perhitungan perkalian matriks-vektor untuk lebih memahami secara pasti apa yang dihasilkan dari perkalian matriks-matriks. Misalkan $Y$ dari perhitungan sebelumnya sebenarnya adalah kolom ketiga dari matriks $C$ ukuran $3\\times 4$.\n",
    "\n",
    "$$\n",
    "\\begin{equation}\n",
    "C = \\left[ \\begin{array}{rrrr} * & * & 2 & * \\\\ * & * & -3 & * \\\\ * & * & 4 & *\\end{array}\\right]\n",
    "\\end{equation}\n",
    "$$\n",
    "\n",
    "Kolom ketiga dari perkalian $PC$ akan sama persis dengan $PY$! Kolom lain dari $PC$ akan menjadi hasil kali $P$ dengan kolom $C$ yang bersesuaian.\n",
    "\n",
    "$$\n",
    "\\begin{equation}\n",
    "PC = \\left[ \\begin{array}{rrrr} * & * & -15 & * \\\\ * & * & 4 & * \\\\* & * & -2 & *  \\\\ * & * & -2 & *\\end{array}\\right]\n",
    "\\end{equation}\n",
    "$$\n"
   ]
  },
  {
   "cell_type": "markdown",
   "metadata": {
    "id": "c2Z3jen1iV7w"
   },
   "source": [
    "Diskusi ini menawarkan peluang  untuk mempelajari cara melakukan operasi pada bagian array NumPy menggunakan fitur yang disebut **slicing**. Mari kita buat matriks $P$ dan $C$, lalu definisikan $X$ sebagai **subarray** dari $C$. Untuk membuat subarray $C$, kita menggunakan sintaks $\\texttt{C[a:b,c:d]}$. Ini akan membuat objek array yang berbentuk $(ba)\\times(d-c)$ dan berisi elemen baris $a$ hingga $b-1$ dan kolom $c$ hingga $d-1$ dari $C$.\n",
    "Khusunya, kami ingin $X$ menyertakan semua baris $C$, tetapi hanya kolom ketiga (yang memiliki indeks Python 2!)."
   ]
  },
  {
   "cell_type": "code",
   "execution_count": null,
   "metadata": {
    "id": "FYBiUGEdiV7w",
    "outputId": "15ab2d61-401c-4506-d8c8-05c5f83ecebd"
   },
   "outputs": [
    {
     "name": "stdout",
     "output_type": "stream",
     "text": [
      "[[ 1  3 -2]\n",
      " [ 5  2  0]\n",
      " [ 4  2 -1]\n",
      " [ 2  2  0]] \n",
      "\n",
      "[[ 0  6  2  6]\n",
      " [-1  1 -3  4]\n",
      " [ 0  2  4  8]] \n",
      "\n",
      "[[ 2]\n",
      " [-3]\n",
      " [ 4]] \n",
      "\n",
      "[[-15]\n",
      " [  4]\n",
      " [ -2]\n",
      " [ -2]]\n"
     ]
    }
   ],
   "source": [
    "\n",
    "P = np.array([[1, 3, -2],[5, 2, 0],[4, 2, -1],[2, 2, 0]])\n",
    "C = np.array([[0, 6, 2, 6],[-1, 1, -3, 4],[0, 2, 4, 8]])\n",
    "X = C[0:3,2:3]\n",
    "print(P,'\\n')\n",
    "print(C,'\\n')\n",
    "print(X,'\\n')\n",
    "print(P@X)"
   ]
  },
  {
   "cell_type": "markdown",
   "metadata": {
    "id": "-YB03jWSiV7y"
   },
   "source": [
    "Catatan array slicing:\n",
    "\n",
    "- Cara lain untuk memiliki  semua baris (atau semua kolom ) dari array untuk digunakan: tanpa suatu bilangan.  Pada contoh diatas, kita dapat menggunakan bari kode berikut untuk menghasilkan hasil yang sama. Silahkan diedit cell diatas\n",
    "```\n",
    "X = C[:,2:3]\n",
    "```\n",
    "- JIka hanya ingin memilih satu barus atau kolom,  silahkan coba baris kode berikut\n",
    "```\n",
    "X = C[:,2]\n",
    "```\n",
    "ini memang kode yang valid, tetapi array $X$ tidak persis seperti yang kita harapkan. Sebaliknya kita mendapatkan array dengan elemen yang benar, tetapi ukurannya tidak benar."
   ]
  },
  {
   "cell_type": "markdown",
   "metadata": {
    "id": "M6_FnzE2iV7z"
   },
   "source": [
    "### Exercises\n",
    "\n",
    "**Latihan 1:** Hitung $-2E$, $G+F$, $4F-G$, $HG$, dan $GE$ menggunakan definisi matriks berikut. Kerjakan latihan di atas kertas terlebih dahulu, kemudian periksa dengan melakukan perhitungan dengan array NumPy.\n",
    "\n",
    "$$\n",
    "\\begin{equation}\n",
    "E = \\left[ \\begin{array}{r} 5 \\\\ -2 \\end{array}\\right] \\hspace{1cm}\n",
    "F = \\left[ \\begin{array}{rr} 1 & 6 \\\\ 2 & 0 \\\\ -1 & -1 \\end{array}\\right] \\hspace{1cm}\n",
    "G = \\left[ \\begin{array}{rr} 2 & 0\\\\ -1 & 3 \\\\ -1 & 6 \\end{array}\\right] \\hspace{1cm}\n",
    "H = \\left[ \\begin{array}{rrr} 3 & 0 & 1 \\\\ 1 & -2 & 2 \\\\ 3 & 4 & -1\\end{array}\\right]\n",
    "\\end{equation}\n",
    "$$"
   ]
  },
  {
   "cell_type": "code",
   "execution_count": null,
   "metadata": {
    "id": "7xEBdz5FiV7z"
   },
   "outputs": [],
   "source": [
    "## Code solution here."
   ]
  },
  {
   "cell_type": "markdown",
   "metadata": {
    "id": "K0sNXbvQiV70"
   },
   "source": [
    "**Latihan 2:** Carilah nilai $x$ dan $y$ agar persamaan ini berlaku.\n",
    "\n",
    "$$\n",
    "\\begin{equation}\n",
    "\\left[ \\begin{array}{rr} 1 & 3 \\\\ -4 & 2 \\end{array}\\right]\n",
    "\\left[ \\begin{array}{rr} 3 & x \\\\ 2 & y \\end{array}\\right]=\n",
    "\\left[ \\begin{array}{rr} 9 & 10 \\\\ -8 & 16 \\end{array}\\right]\n",
    "\\end{equation}\n",
    "$$"
   ]
  },
  {
   "cell_type": "code",
   "execution_count": null,
   "metadata": {
    "id": "eIwB56HXiV71"
   },
   "outputs": [],
   "source": [
    "## Code solution here"
   ]
  },
  {
   "cell_type": "markdown",
   "metadata": {
    "id": "Hkt1wXvKiV72"
   },
   "source": [
    "**Latihan 3:** Tentukan array NumPy untuk matriks $H$ dan $G$  di bawah ini.\n",
    "\n",
    "$$\n",
    "\\begin{equation}\n",
    "H = \\left[ \\begin{array}{rrr} 3 & 3 & -1  \\\\ -3 & 0 & 8 \\\\  1 & 6 & 5 \\end{array}\\right]\\hspace{2cm}\n",
    "G = \\left[ \\begin{array}{rrrr} 1 & 5 & 2 & -3 \\\\ 7 & -2 & -3 & 0 \\\\ 2 & 2 & 4 & 6\\end{array}\\right]\n",
    "\\end{equation}\n",
    "$$\n",
    "\n",
    "$(a)$ Kalikan kolom kedua dan ketiga $H$ dengan baris pertama dan kedua $G$. Gunakan slice untuk membuat subarray. Apakah hasilnya ada hubungannya dengan perkalian $HG$  secara utuh?\n",
    "\n",
    "$(b)$ Kalikan baris pertama dan kedua $H$ dengan kolom kedua dan ketiga $G$. Apakah hasil ini ada hubungannya dengan perkalian $HG$ secara utuh?\n"
   ]
  },
  {
   "cell_type": "code",
   "execution_count": null,
   "metadata": {
    "id": "LYYBTue9iV72"
   },
   "outputs": [],
   "source": [
    "## Code solution here."
   ]
  },
  {
   "cell_type": "markdown",
   "metadata": {
    "id": "JpFZHVsYiV73"
   },
   "source": [
    "**Latihan 4:** Buatlah matriks $4\\times 4$ $B$ dengan elemen matrik bilangan bulat acak. Hitung matriks $P = \\frac12(B+B^T)$ dan $Q = \\frac12(B-B^T)$. Jalankan ulang kode Anda beberapa kali untuk mendapatkan matriks yang berbeda. Apa yang Anda perhatikan tentang $P$ dan $Q$? Jelaskan mengapa hal itu haru selalu benar.       "
   ]
  },
  {
   "cell_type": "code",
   "execution_count": null,
   "metadata": {
    "id": "70qe56EMiV74"
   },
   "outputs": [],
   "source": [
    "## Code solution here."
   ]
  },
  {
   "cell_type": "markdown",
   "metadata": {
    "id": "ViKmyaE6iV74"
   },
   "source": [
    "**Latihan 5:** Sama seperti elemen matriks yang dapat berupa bilangan bulat atau bilangan real, kita juga dapat memiliki matriks yang elemennya juga merupakan matriks. **Matriks blok** adalah matriks apa pun yang telah kami tafsirkan sebagai dipartisi ke dalam **submatriks** ini. Hitung perkalian dari $HG$ dengan menggunakan$H_i$ dan $G_j$ sebagai elemen matriksnya masing-masing. Jika kita mempunyai dua matriks yang dapat dikalikan seperti biasanya, apakah ada partisi yang memungkinkan kita mengalikan menggunakan submatriks sebagai elemennya?\n",
    "\n",
    "$$\n",
    "\\begin{equation}\n",
    "H = \\left[ \\begin{array}{cc|cc} 1 & 3 & 2 & 0  \\\\ -1 & 0 & 3 & 3 \\\\ \\hline 2 & 2 & -2 & 1 \\\\ 0 & 1 & 1 & 4 \\end{array}\\right] = \\left[ \\begin{array}{} H_1 & H_2 \\\\ H_3 & H_4\\end{array} \\right] \\hspace{2cm}\n",
    "G = \\left[ \\begin{array}{cc|c} 3 & 0 & 5 \\\\ 1 & 1 & -3 \\\\ \\hline 2 & 0 & 1 \\\\ 0 & 2 & 1\\end{array}\\right] = \\left[ \\begin{array}{} G_1 & G_2 \\\\ G_3 & G_4\\end{array} \\right]\n",
    "\\end{equation}\n",
    "$$"
   ]
  },
  {
   "cell_type": "code",
   "execution_count": null,
   "metadata": {
    "id": "zHjsv3FMiV75"
   },
   "outputs": [],
   "source": [
    "## Code solution here."
   ]
  }
 ],
 "metadata": {
  "colab": {
   "provenance": []
  },
  "kernelspec": {
   "display_name": "Python 3 (ipykernel)",
   "language": "python",
   "name": "python3"
  },
  "language_info": {
   "codemirror_mode": {
    "name": "ipython",
    "version": 3
   },
   "file_extension": ".py",
   "mimetype": "text/x-python",
   "name": "python",
   "nbconvert_exporter": "python",
   "pygments_lexer": "ipython3",
   "version": "3.11.11"
  }
 },
 "nbformat": 4,
 "nbformat_minor": 4
}
